{
 "cells": [
  {
   "cell_type": "code",
   "execution_count": 6,
   "metadata": {},
   "outputs": [],
   "source": [
    "from transformers import ViTMAEConfig, ViTMAEForPreTraining, ViTModel\n",
    "import torch "
   ]
  },
  {
   "cell_type": "code",
   "execution_count": 9,
   "metadata": {},
   "outputs": [],
   "source": [
    "pretrained_model_path = \"/home/mhill/Projects/cathepsin/logs/vitmae/12/model.pth\"\n",
    "\n",
    "vitmaeconfig = {\n",
    "  \"attention_probs_dropout_prob\": 0.0,\n",
    "  \"decoder_hidden_size\": 192,\n",
    "  \"decoder_intermediate_size\": 768,\n",
    "  \"decoder_num_attention_heads\": 6,\n",
    "  \"decoder_num_hidden_layers\": 6,\n",
    "  \"hidden_act\": \"gelu\",\n",
    "  \"hidden_dropout_prob\": 0.0,\n",
    "  \"hidden_size\": 192,\n",
    "  \"image_size\": 64,\n",
    "  \"initializer_range\": 0.02,\n",
    "  \"intermediate_size\": 768,\n",
    "  \"layer_norm_eps\": 1e-06,\n",
    "  \"mask_ratio\": 0.5,\n",
    "  \"model_type\": \"vit_mae\",\n",
    "  \"norm_pix_loss\": 1,\n",
    "  \"num_attention_heads\": 6,\n",
    "  \"num_channels\": 16,\n",
    "  \"num_hidden_layers\": 6,\n",
    "  \"patch_size\": 2,\n",
    "  \"qkv_bias\": True,\n",
    "  \"transformers_version\": \"4.41.02\"\n",
    "}\n",
    "\n",
    "checkpoint = torch.load(pretrained_model_path)\n",
    "model = ViTMAEForPreTraining(config = ViTMAEConfig(**vitmaeconfig))\n",
    "\n",
    "model.load_state_dict(checkpoint['model_state_dict'])\n",
    "vit = model.vit #VITMAEModel: The bare ViTMAE Model transformer outputting raw hidden-states without any specific head on top\n"
   ]
  },
  {
   "cell_type": "code",
   "execution_count": 12,
   "metadata": {},
   "outputs": [
    {
     "name": "stdout",
     "output_type": "stream",
     "text": [
      "ViTMAEConfig {\n",
      "  \"attention_probs_dropout_prob\": 0.0,\n",
      "  \"decoder_hidden_size\": 192,\n",
      "  \"decoder_intermediate_size\": 768,\n",
      "  \"decoder_num_attention_heads\": 6,\n",
      "  \"decoder_num_hidden_layers\": 6,\n",
      "  \"hidden_act\": \"gelu\",\n",
      "  \"hidden_dropout_prob\": 0.0,\n",
      "  \"hidden_size\": 192,\n",
      "  \"image_size\": 64,\n",
      "  \"initializer_range\": 0.02,\n",
      "  \"intermediate_size\": 768,\n",
      "  \"layer_norm_eps\": 1e-06,\n",
      "  \"mask_ratio\": 0.5,\n",
      "  \"model_type\": \"vit_mae\",\n",
      "  \"norm_pix_loss\": 1,\n",
      "  \"num_attention_heads\": 6,\n",
      "  \"num_channels\": 16,\n",
      "  \"num_hidden_layers\": 6,\n",
      "  \"patch_size\": 2,\n",
      "  \"qkv_bias\": true,\n",
      "  \"transformers_version\": \"4.42.3\"\n",
      "}\n",
      "\n",
      "192\n"
     ]
    }
   ],
   "source": [
    "print(vit.config)\n",
    "print(vit.config.hidden_size)"
   ]
  },
  {
   "cell_type": "code",
   "execution_count": null,
   "metadata": {},
   "outputs": [],
   "source": []
  }
 ],
 "metadata": {
  "kernelspec": {
   "display_name": "default",
   "language": "python",
   "name": "python3"
  },
  "language_info": {
   "codemirror_mode": {
    "name": "ipython",
    "version": 3
   },
   "file_extension": ".py",
   "mimetype": "text/x-python",
   "name": "python",
   "nbconvert_exporter": "python",
   "pygments_lexer": "ipython3",
   "version": "3.11.5"
  }
 },
 "nbformat": 4,
 "nbformat_minor": 2
}
