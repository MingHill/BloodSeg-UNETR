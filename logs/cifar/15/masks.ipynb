{
 "cells": [
  {
   "metadata": {
    "ExecuteTime": {
     "end_time": "2024-06-26T15:19:33.938343Z",
     "start_time": "2024-06-26T15:19:33.936455Z"
    }
   },
   "cell_type": "code",
   "source": "# https://github.com/NielsRogge/Transformers-Tutorials/blob/master/ViTMAE/ViT_MAE_visualization_demo.ipynb",
   "id": "bf94c8ed85eb4b3",
   "outputs": [],
   "execution_count": 1
  },
  {
   "metadata": {
    "ExecuteTime": {
     "end_time": "2024-06-26T15:19:35.501413Z",
     "start_time": "2024-06-26T15:19:33.939051Z"
    }
   },
   "cell_type": "code",
   "source": [
    "import torch\n",
    "from torchvision import datasets, transforms\n",
    "\n",
    "from transformers import ViTMAEConfig, ViTMAEForPreTraining\n",
    "\n",
    "from src.datasets import CustomCIFAR10Dataset\n",
    "\n",
    "from src.plotters import plot_mae\n",
    "from src.utils import select_device, extract_mae\n",
    "\n",
    "%reload_ext autoreload\n",
    "%autoreload 2\n",
    "\n",
    "device = select_device()"
   ],
   "id": "initial_id",
   "outputs": [],
   "execution_count": 2
  },
  {
   "metadata": {
    "ExecuteTime": {
     "end_time": "2024-06-26T15:19:35.503829Z",
     "start_time": "2024-06-26T15:19:35.502303Z"
    }
   },
   "cell_type": "code",
   "source": "",
   "id": "50974324f4762e4e",
   "outputs": [],
   "execution_count": 2
  },
  {
   "metadata": {
    "ExecuteTime": {
     "end_time": "2024-06-26T15:19:36.363376Z",
     "start_time": "2024-06-26T15:19:35.504371Z"
    }
   },
   "cell_type": "code",
   "source": [
    "transform = transforms.Compose([\n",
    "    transforms.ToTensor(),\n",
    "])\n",
    "\n",
    "test_dataset = datasets.CIFAR10(\n",
    "    root=\"/Users/martin/Sites/datasets/third-party/pytorch-datasets/\",\n",
    "    download=True,\n",
    "    train=False,\n",
    "    transform=transform\n",
    ")\n",
    "testing_dataset = [(image, target) for image, target in test_dataset]\n",
    "\n",
    "test_dataset = CustomCIFAR10Dataset(testing_dataset)"
   ],
   "id": "5057e172a190ab2a",
   "outputs": [
    {
     "name": "stdout",
     "output_type": "stream",
     "text": [
      "Files already downloaded and verified\n"
     ]
    }
   ],
   "execution_count": 3
  },
  {
   "metadata": {
    "ExecuteTime": {
     "end_time": "2024-06-26T15:19:36.657408Z",
     "start_time": "2024-06-26T15:19:36.364496Z"
    }
   },
   "cell_type": "code",
   "source": [
    "vitmaeconfig = {\n",
    "    'hidden_size': 192,\n",
    "    'num_hidden_layers': 6,\n",
    "    'num_attention_heads': 6,\n",
    "    'intermediate_size': 768,\n",
    "    'hidden_dropout_prob': 0.0,\n",
    "    'attention_probs_dropout_prob': 0.0,\n",
    "    'image_size': 32,\n",
    "    'patch_size': 4,\n",
    "    'num_channels': 3,\n",
    "    'decoder_hidden_size': 192,\n",
    "    'decoder_num_hidden_layers': 6,\n",
    "    'decoder_num_attention_heads': 6,\n",
    "    'decoder_intermediate_size': 768,\n",
    "    'mask_ratio': 0.75,  # default: 0.75\n",
    "}\n",
    "\n",
    "MODEL_PATH = \"model.pth\"\n",
    "checkpoint = torch.load(MODEL_PATH, map_location=device)\n",
    "\n",
    "model = ViTMAEForPreTraining(config=ViTMAEConfig(**vitmaeconfig)).to(device)\n",
    "model.load_state_dict(checkpoint['model_state_dict'])"
   ],
   "id": "941fba976ee9a1d5",
   "outputs": [
    {
     "data": {
      "text/plain": [
       "<All keys matched successfully>"
      ]
     },
     "execution_count": 4,
     "metadata": {},
     "output_type": "execute_result"
    }
   ],
   "execution_count": 4
  },
  {
   "metadata": {
    "ExecuteTime": {
     "end_time": "2024-06-26T15:19:40.519551Z",
     "start_time": "2024-06-26T15:19:36.657949Z"
    }
   },
   "cell_type": "code",
   "source": [
    "mae_image_results = extract_mae(model, test_dataset, image_index=0, device=device, denormalize=False)\n",
    "print(mae_image_results.keys())\n",
    "\n",
    "plot_mae(mae_image_results)"
   ],
   "id": "b12759eda50f6715",
   "outputs": [
    {
     "name": "stdout",
     "output_type": "stream",
     "text": [
      "dict_keys(['original_image', 'image_masked', 'reconstructed_image', 'image_reconstructed_visible'])\n"
     ]
    },
    {
     "data": {
      "text/plain": [
       "<Figure size 1000x800 with 4 Axes>"
      ],
      "image/png": "[encoded data removed]"
     },
     "metadata": {},
     "output_type": "display_data"
    }
   ],
   "execution_count": 5
  },
  {
   "metadata": {},
   "cell_type": "code",
   "source": "",
   "id": "54e5a2023e760a8a",
   "outputs": [],
   "execution_count": null
  },
  {
   "metadata": {},
   "cell_type": "code",
   "source": "",
   "id": "a0ca64878fd4b055",
   "outputs": [],
   "execution_count": null
  },
  {
   "metadata": {},
   "cell_type": "code",
   "source": "",
   "id": "f552bfa69b5f3894",
   "outputs": [],
   "execution_count": null
  }
 ],
 "metadata": {
  "kernelspec": {
   "display_name": "Python 3",
   "language": "python",
   "name": "python3"
  },
  "language_info": {
   "codemirror_mode": {
    "name": "ipython",
    "version": 2
   },
   "file_extension": ".py",
   "mimetype": "text/x-python",
   "name": "python",
   "nbconvert_exporter": "python",
   "pygments_lexer": "ipython2",
   "version": "2.7.6"
  }
 },
 "nbformat": 4,
 "nbformat_minor": 5
}
