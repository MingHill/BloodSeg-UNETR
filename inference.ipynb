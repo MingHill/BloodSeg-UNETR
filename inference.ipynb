{
 "cells": [
  {
   "cell_type": "code",
   "execution_count": 1,
   "metadata": {},
   "outputs": [],
   "source": [
    "import numpy as np\n",
    "import torch\n",
    "from torch.utils.data import DataLoader\n",
    "from transformers import ViTConfig, ViTModel\n",
    "\n",
    "from src.datasets import CustomDataset, unet_inference\n",
    "from src.unetr_2x2 import CustomUNETR2\n",
    "from src.utils import select_device"
   ]
  },
  {
   "cell_type": "markdown",
   "metadata": {},
   "source": [
    "Load Data"
   ]
  },
  {
   "cell_type": "code",
   "execution_count": 2,
   "metadata": {},
   "outputs": [],
   "source": [
    "device = select_device()\n",
    "\n",
    "data = np.load(\"/home/mhill/Projects/cathepsin/data/inference_data.dat.npy\")  # shape: (12065, 16, 64, 64)\n",
    "\n",
    "dataset = CustomDataset(data)\n",
    "\n",
    "test_dataloader = DataLoader(\n",
    "    dataset=dataset,\n",
    "    batch_size=32,\n",
    "    shuffle=False,\n",
    "    collate_fn=unet_inference\n",
    ")"
   ]
  },
  {
   "cell_type": "markdown",
   "metadata": {},
   "source": [
    "Model Config "
   ]
  },
  {
   "cell_type": "code",
   "execution_count": 3,
   "metadata": {},
   "outputs": [
    {
     "data": {
      "text/plain": [
       "<All keys matched successfully>"
      ]
     },
     "execution_count": 3,
     "metadata": {},
     "output_type": "execute_result"
    }
   ],
   "source": [
    "# Load specific model config \n",
    "vitconfig = {\n",
    "    \"attention_probs_dropout_prob\": 0.0,\n",
    "    \"encoder_stride\": 2,\n",
    "    \"hidden_act\": \"gelu\",\n",
    "    \"hidden_dropout_prob\": 0.0,\n",
    "    \"hidden_size\": 192,\n",
    "    \"image_size\": 64,\n",
    "    \"initializer_range\": 0.02,\n",
    "    \"intermediate_size\": 768,\n",
    "    \"layer_norm_eps\": 1e-06,\n",
    "    \"model_type\": \"vit\",\n",
    "    \"num_attention_heads\": 6,\n",
    "    \"num_channels\": 16,\n",
    "    \"num_hidden_layers\": 6,\n",
    "    \"patch_size\": 2,\n",
    "    \"qkv_bias\": True,\n",
    "    \"transformers_version\": \"4.42.3\"\n",
    "}\n",
    "\n",
    "unet_config = {  # can retrieve from log/info.md\n",
    "    'BATCH_SIZE': 32,\n",
    "    'BETA_1': 0.9,\n",
    "    'BETA_2': 0.95,\n",
    "    'COMMENT': 'Run 21: Patch 02 w/augmented data 150 epochs, 128 feature size',\n",
    "    'FEATURE_SIZE': 128,\n",
    "    'IN_CHANNEL': 16,\n",
    "    'LEARNING_RATE': 1e-05,\n",
    "    'LOG_DIR': 'logs/unetr/21/',\n",
    "    'NUM_CLASSES': 16,\n",
    "    'NUM_EPOCHS': 150,\n",
    "    'PRE_TRAINED_MODEL': '/home/mhill/Projects/cathepsin/logs/vitmae/12/model.pth',\n",
    "    'RANDOM_SEED': 42,\n",
    "    'RES_BLOCK': True,\n",
    "    'SAVE_MODELS': 1,\n",
    "    'SPATIAL_DIMS': 2,\n",
    "    'TEST_DATASET': '/home/mhill/Projects/cathepsin/data/unet_testing_dataset.npz',\n",
    "    'TRAIN_DATASET': '/home/mhill/Projects/cathepsin/data/unet_training_dataset.npz',\n",
    "    'VALID_DATASET': '/home/mhill/Projects/cathepsin/data/unet_validation_dataset.npz',\n",
    "    'WEIGHT_DECAY': 0.0\n",
    "}\n",
    "\n",
    "MODEL_PATH = \"/home/mhill/Projects/cathepsin/logs/unetr/21/model.pth\"  # <-- set model path \n",
    "checkpoint = torch.load(MODEL_PATH, map_location=device)\n",
    "\n",
    "encoder = ViTModel(config=ViTConfig(**vitconfig))\n",
    "\n",
    "model = CustomUNETR2(encoder=encoder, feature_size=unet_config[\"FEATURE_SIZE\"],\n",
    "                     num_classes=unet_config[\"NUM_CLASSES\"]).to(device)\n",
    "model.load_state_dict(checkpoint['model_state_dict'])"
   ]
  },
  {
   "cell_type": "code",
   "execution_count": 4,
   "metadata": {},
   "outputs": [],
   "source": [
    "\n",
    "model.eval()\n",
    "images = []\n",
    "all_predictions = []\n",
    "\n",
    "with torch.inference_mode():\n",
    "    for i, image in enumerate(test_dataloader):\n",
    "        image = image.to(device).float()\n",
    "        outputs = model(image)\n",
    "        predictions = torch.argmax(outputs, dim=1)\n",
    "\n",
    "        images_np = image.cpu().numpy()\n",
    "        predictions_np = predictions.cpu().numpy()\n",
    "\n",
    "        images.append(images_np)\n",
    "        all_predictions.append(predictions_np)\n",
    "x = np.concatenate(images, axis=0)\n",
    "y = np.concatenate(all_predictions, axis=0)  # (12065, 64, 64)\n",
    "\n"
   ]
  },
  {
   "cell_type": "code",
   "execution_count": 11,
   "metadata": {},
   "outputs": [
    {
     "data": {
      "text/plain": [
       "<Figure size 640x480 with 0 Axes>"
      ]
     },
     "metadata": {},
     "output_type": "display_data"
    },
    {
     "data": {
      "text/plain": [
       "<Figure size 640x480 with 0 Axes>"
      ]
     },
     "metadata": {},
     "output_type": "display_data"
    }
   ],
   "source": [
    "import matplotlib.pyplot as plt\n",
    "\n",
    "# colors = np.array([\n",
    "#     [0x00,0x00,0x00], [0x00,0x00,0xff], [0x00,0xff,0x00], [0x00,0xff,0xff],\n",
    "#     [0xff,0x00,0xff], [0xff,0xff,0x00], [0xff,0x00,0x00], [0xa0,0xa0,0xa4],\n",
    "#     [0x80,0x00,0x00], [0x00,0x80,0x00], [0x00,0x00,0x80], [0x00,0x80,0x80],\n",
    "#     [0x80,0x00,0x80], [0x80,0x80,0x00], [0x80,0x80,0x80], [0xff,0xff,0xff]], np.uint8)\n",
    "\n",
    "colors = np.array([\n",
    "    [217, 217, 217], [168, 185, 205], [250, 250, 250], [166, 159, 154],\n",
    "    [0, 0, 0], [208, 193, 188], [90, 84, 97], [0, 0, 0],\n",
    "    [193, 176, 180], [145, 175, 201], [0, 0, 0], [139, 120, 191],\n",
    "    [0, 0, 0], [0, 0, 0], [0, 0, 0], [0, 0, 0]], np.uint8)\n",
    "\n",
    "labels = {\n",
    "    0: \"background\",\n",
    "    1: \"white blood cell\",\n",
    "    2: \"platelet\",\n",
    "    3: \"outer rbc\",\n",
    "    4: \"reticulocyte (missing)\",\n",
    "    5: \"inner rbc\",\n",
    "    6: \"beads\",\n",
    "    7: \"monster bead\",\n",
    "    8: \"sensor scratch\",\n",
    "    9: \"chambertop scratch\",\n",
    "    10: \"debris\",\n",
    "    11: \"bubble\",\n",
    "}\n",
    "\n",
    "\n",
    "def apply_color_map(label_image, color_map):\n",
    "    colored_image = np.zeros((label_image.shape[0], label_image.shape[1], 3), dtype=np.uint8)\n",
    "    for label, color in enumerate(color_map):\n",
    "        colored_image[label_image == label] = color\n",
    "    return colored_image\n",
    "\n",
    "\n",
    "sr = x[:, :12, 16:-16, 16:-16].reshape(3072 // 32 - 1, 4096 // 32 - 1, 2, 2, 3, 32, 32)\n",
    "sr = sr.transpose(0, 5, 2, 1, 6, 3, 4).reshape((3072 - 32) * 2, (4096 - 32) * 2, 3)\n",
    "\n",
    "z = y[:, 16:-16, 16:-16].reshape(3072 // 32 - 1, 4096 // 32 - 1, 32, 32)\n",
    "z = z.transpose(0, 2, 1, 3).reshape(3072 - 32, 4096 - 32)\n",
    "\n",
    "colored_z = apply_color_map(z, colors)\n",
    "\n",
    "plt.figure();\n",
    "plt.imsave(\"/home/mhill/Projects/BloodSeg-UNETR/out_images/input2.png\", sr)\n",
    "plt.figure();\n",
    "plt.imsave(\"/home/mhill/Projects/BloodSeg-UNETR/out_images/output4.png\", colored_z)  #could also imshow(z, cmap='jet')"
   ]
  },
  {
   "cell_type": "markdown",
   "metadata": {},
   "source": [
    "Below to check a single photo"
   ]
  },
  {
   "cell_type": "code",
   "execution_count": null,
   "metadata": {},
   "outputs": [
    {
     "name": "stdout",
     "output_type": "stream",
     "text": [
      "6012\n"
     ]
    },
    {
     "data": {
      "image/png": "[encoded data removed]",
      "text/plain": [
       "<Figure size 1500x500 with 2 Axes>"
      ]
     },
     "metadata": {},
     "output_type": "display_data"
    }
   ],
   "source": [
    "from src.plotters import visualize_inference\n",
    "\n",
    "mid = len(data) // 2\n",
    "\n",
    "image = data[mid - 20:mid][:][:][:]\n",
    "print(mid - 20)\n",
    "\n",
    "test_dataloader = DataLoader(\n",
    "    dataset=image,\n",
    "    batch_size=1,\n",
    "    shuffle=False,\n",
    "    collate_fn=unet_inference\n",
    "\n",
    ")\n",
    "\n",
    "device = select_device()\n",
    "model.eval()\n",
    "with torch.inference_mode():\n",
    "    img = next(iter(test_dataloader))\n",
    "    img = img.to(device)\n",
    "    outputs = model(img)\n",
    "    predictions = torch.argmax(outputs, dim=1)\n",
    "\n",
    "    # Convert to numpy arrays for visualization\n",
    "    image_np = img.cpu().numpy()\n",
    "    predictions_np = predictions.cpu().numpy()\n",
    "    # Visualize the predictions\n",
    "    visualize_inference(1, images=image_np, predictions=predictions_np, labels=None)"
   ]
  },
  {
   "cell_type": "code",
   "execution_count": null,
   "metadata": {},
   "outputs": [],
   "source": [
    "# np.save(\"/home/mhill/Projects/cathepsin/predicition_np\", predictions_np)"
   ]
  },
  {
   "cell_type": "code",
   "execution_count": null,
   "metadata": {},
   "outputs": [],
   "source": []
  }
 ],
 "metadata": {
  "kernelspec": {
   "display_name": "default",
   "language": "python",
   "name": "python3"
  },
  "language_info": {
   "codemirror_mode": {
    "name": "ipython",
    "version": 3
   },
   "file_extension": ".py",
   "mimetype": "text/x-python",
   "name": "python",
   "nbconvert_exporter": "python",
   "pygments_lexer": "ipython3",
   "version": "3.11.5"
  }
 },
 "nbformat": 4,
 "nbformat_minor": 2
}
